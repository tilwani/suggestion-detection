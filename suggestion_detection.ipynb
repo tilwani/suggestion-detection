{
 "cells": [
  {
   "cell_type": "markdown",
   "metadata": {
    "id": "2G6saNLUFqHb"
   },
   "source": [
    "# Suggestion Detection"
   ]
  },
  {
   "cell_type": "markdown",
   "metadata": {
    "id": "ZCWSEtNeGMsN"
   },
   "source": [
    "---\n",
    "\n",
    "This work involves feature engineering, training and evaluating a classifier for suggestion detection, using the data from SemEval-2019 Task 9 subtask A to classify whether a piece of text contains a suggestion or not. \n",
    "\n",
    "The CSV file contains a header row followed by 6,100 rows spread across 3 columns of data. Each row of data contains a unique id, a piece of text and a label assigned by an annotator. A label of $1$ indicates that the given text contains a suggestion while a label of $0$ indicates that the text does not contain a suggestion.\n",
    "\n",
    "You can find more details about the dataset in Sections 1, 2, 3 and 4 of [SemEval-2019 Task 9: Suggestion Mining from Online Reviews and Forums\n",
    "](https://aclanthology.org/S19-2151/).\n"
   ]
  },
  {
   "cell_type": "markdown",
   "metadata": {
    "id": "RohgBTdkHX0Z"
   },
   "source": [
    "---\n",
    "\n",
    "## Reading Data\n",
    "\n",
    "The following cell of code reads the texts and the corresponding labels of suggestion/non-suggestion from the CSV file. The first task is to create training and test sets. Use the final $1000$ rows of the data as a test set and the rest of the data for training."
   ]
  },
  {
   "cell_type": "code",
   "execution_count": 2,
   "metadata": {},
   "outputs": [],
   "source": [
    "# function to divide text and labels of any data sent as list\n",
    "def divide_text_labels(data_list):\n",
    "    texts, labels = [], []\n",
    "    for data_text, data_label in data_list:\n",
    "        texts.append(data_text)\n",
    "        labels.append(data_label)\n",
    "    return texts, labels"
   ]
  },
  {
   "cell_type": "code",
   "execution_count": 3,
   "metadata": {
    "id": "5x0c38rCGk23"
   },
   "outputs": [],
   "source": [
    "import numpy as np\n",
    "import pandas as pd\n",
    "\n",
    "# Read the CSV file.\n",
    "df = pd.read_csv('Data.Assignment2.SemEvalTask9SubtaskA.csv', \n",
    "                 names=['id', 'text', 'label'], header=0)\n",
    "\n",
    "# Set seed for reproducibility and shuffle the rows.\n",
    "np.random.seed(888)\n",
    "df = df.sample(frac=1).reset_index(drop=True)\n",
    "\n",
    "# Store the data as a list of tuples where the first item is the text\n",
    "# and the second item is the label.\n",
    "data = [(text, label) for (idx, text, label) in df.values.tolist()]\n",
    "\n",
    "# Create training and test sets.\n",
    "train_texts, train_labels = [], []\n",
    "test_texts, test_labels = [], []\n",
    "\n",
    "# adding last 1000 rows in test and remaining in train\n",
    "train_texts, train_labels = divide_text_labels(data[:-1000])\n",
    "test_texts, test_labels = divide_text_labels(data[-1000:])\n",
    "\n",
    "#assert len(test_texts) == len(test_labels) == 1000\n",
    "#assert len(train_texts) == len(train_labels) == 5100"
   ]
  },
  {
   "cell_type": "code",
   "execution_count": 4,
   "metadata": {},
   "outputs": [
    {
     "name": "stdout",
     "output_type": "stream",
     "text": [
      "\\n present in:  117\n",
      "\\r\\n present in:  117\n"
     ]
    }
   ],
   "source": [
    "# \\n or \\r\\n present in text\n",
    "print(\"\\\\n present in: \", len(df[df[\"text\"].map(lambda x: \"\\n\" in x)==True]))\n",
    "print(\"\\\\r\\\\n present in: \", len(df[df[\"text\"].map(lambda x: \"\\r\\n\" in x)==True]))"
   ]
  },
  {
   "cell_type": "markdown",
   "metadata": {
    "id": "I_Scj45oSpdQ"
   },
   "source": [
    "---\n",
    "\n",
    "## Task 2: Data Pre-processing"
   ]
  },
  {
   "cell_type": "markdown",
   "metadata": {
    "id": "ROipkmu1cnN_"
   },
   "source": [
    "Edit this cell to write your answer below the line in no more than 300 words.\n",
    "\n",
    "---\n",
    ">  We can consider the following pre-processing steps in order:\n",
    "> 1. Converting the text to lowercase, so that case sensitivity doesn't play role in defining words. For e.g. Advice and advice are considered same.\n",
    "\n",
    "> 2. It can be seen that \\r\\n is present in the sentences (shown in above cell), which doesn't contribute to the decision of identification of a suggestion. These instances of \\r\\n can be replaced by a whitespace.\n",
    "\n",
    "> 3. Replacing the punctuations and special characters with whitespaces, as it can cause same words to be counted multiple times. For e.g., \"hence\" and \"hence,\" or \"add\", \"remove\", and \"add/remove\". Not performin this step can cause such redundancy to interfere with the vocabulary and term weighting scheme.\n",
    "\n",
    "> 4. Above steps can lead to multiple unnecessary spaces in the text. Multiple spaces can be replaced with a single space, for e.g. \"hence, this works\" will become \"hence  this works\" with an extra space between \"hence\" and \"this\".\n",
    "\n",
    "> 5. Once above steps are performed, there can be leading and trailing spaces in text (for e.g., if the fullstop at the end is replaced with a whitespace), which can be removed.\n",
    "\n",
    "> 6. Stopwords <b>can be or cannot be</b> removed depending on whether they help in suggestion identification. Same is the case with Stemming, i.e. <b>it might or might not help.</b> We will proceed without performing these steps for now, but will perform and analyse the effect of both of these preprocessing steps after Task 4 (after defining an alternative metric to accuracy) as this metric will be used to access.\n",
    "---"
   ]
  },
  {
   "cell_type": "markdown",
   "metadata": {
    "id": "t2-xXQggaVKh"
   },
   "source": [
    "In the code cell below, write an implementation of the steps you defined above. You are free to use a library such as `nltk` or `sklearn` for this task."
   ]
  },
  {
   "cell_type": "code",
   "execution_count": 5,
   "metadata": {
    "id": "Jb7i3Le4aSYM"
   },
   "outputs": [],
   "source": [
    "import re\n",
    "import string\n",
    "from nltk.corpus import stopwords\n",
    "from nltk.stem import PorterStemmer\n",
    "\n",
    "# filtering stopwords\n",
    "def filter_stopwords(text):\n",
    "    filtered_word_list = []\n",
    "    for word in text.split():\n",
    "        if word not in stopwords.words('english'):\n",
    "            filtered_word_list.append(word)\n",
    "    return \" \".join(filtered_word_list)\n",
    "\n",
    "def stem_words(text, stemmer):\n",
    "    stemmed_word_list = []\n",
    "    for word in text.split():\n",
    "        stemmed_word_list.append(stemmer.stem(word))\n",
    "    return \" \".join(stemmed_word_list)\n",
    "\n",
    "def pre_process(data_text_list, combination = (False, False)):\n",
    "    # converting data to lowercase\n",
    "    data_text_list = [data_text.lower() for data_text in data_text_list]\n",
    "    # removing newlines\n",
    "    data_text_list = map(lambda x: x.replace(\"\\r\\n\", \" \"), data_text_list)\n",
    "    \n",
    "    # replacing punctuations and special chars with whitespaces\n",
    "    pattern = f\"[{string.punctuation}]+\"\n",
    "    data_text_list = map(lambda x: re.sub(pattern, \" \", x), data_text_list)\n",
    "    \n",
    "    # unneccessary and trailing/leading spaces can be removed by using join\n",
    "    data_text_list = list(map(lambda x: \" \".join(x.split()), data_text_list))\n",
    "    \n",
    "    # filtering stopwords and stemmingbased on condition\n",
    "    if combination[0]:\n",
    "        data_text_list = list(map(filter_stopwords, data_text_list))\n",
    "    if combination[1]:\n",
    "        stemmer = PorterStemmer()\n",
    "        data_text_list = [stem_words(text, stemmer) for text in data_text_list]\n",
    "    return data_text_list "
   ]
  },
  {
   "cell_type": "code",
   "execution_count": 6,
   "metadata": {
    "id": "Jb7i3Le4aSYM"
   },
   "outputs": [],
   "source": [
    "# train and test data with stopword_removal = 0 and stemming = 0\n",
    "# i.e. without performing the above steps\n",
    "train_stop_0_stem_0 = pre_process(train_texts)\n",
    "test_stop_0_stem_0 = pre_process(test_texts)"
   ]
  },
  {
   "cell_type": "markdown",
   "metadata": {},
   "source": [
    "---\n",
    "## Task 3: Feature Engineering (I)"
   ]
  },
  {
   "cell_type": "code",
   "execution_count": 7,
   "metadata": {
    "id": "3gDsfB8xTGMg"
   },
   "outputs": [
    {
     "data": {
      "text/plain": [
       "0.557"
      ]
     },
     "execution_count": 7,
     "metadata": {},
     "output_type": "execute_result"
    }
   ],
   "source": [
    "from sklearn.feature_extraction.text import CountVectorizer\n",
    "from sklearn.feature_extraction.text import TfidfTransformer\n",
    "from sklearn.naive_bayes import GaussianNB\n",
    "\n",
    "# Calculate tf-idf scores for the words in the training set.\n",
    "# ... your code goes here\n",
    "\n",
    "# Predict on the test set.\n",
    "predictions = []    # save your predictions on the test set into this list\n",
    "\n",
    "# generating word counts and tfidf for training set and model training\n",
    "def train_model(train_data, test_data):\n",
    "    global predictions\n",
    "    predictions = []\n",
    "    \n",
    "    # generating tf_idf using countVectorizer and tfidf_transformer\n",
    "    cv = CountVectorizer()\n",
    "    tf_idf_trans = TfidfTransformer()\n",
    "    train_word_counts = cv.fit_transform(train_data)\n",
    "    train_tf_idf_vals = tf_idf_trans.fit_transform(train_word_counts)\n",
    "\n",
    "    # Train a Naïve Bayes classifier using the tf-idf scores for words as features.\n",
    "    # ... your code goes here\n",
    "    nb_model = GaussianNB()\n",
    "    nb_model.fit(train_tf_idf_vals.toarray(), np.array(train_labels))\n",
    "\n",
    "    # ... your code goes here\n",
    "    # generating features for test-set\n",
    "    test_word_counts = cv.transform(test_data)\n",
    "    test_tf_idf_vals = tf_idf_trans.transform(test_word_counts)\n",
    "\n",
    "    for result in nb_model.predict(test_tf_idf_vals.toarray()):\n",
    "        predictions.append(result)\n",
    "\n",
    "# running training and evaluation for the dataset with no stopword removal and no stemming\n",
    "train_model(train_stop_0_stem_0, test_stop_0_stem_0)"
   ]
  },
  {
   "cell_type": "markdown",
   "metadata": {
    "id": "DDx_M2aTIncl"
   },
   "source": [
    "---\n",
    "\n",
    "## Task 4: Evaluation Metric\n"
   ]
  },
  {
   "cell_type": "markdown",
   "metadata": {
    "id": "1evdGdZf66Aw"
   },
   "source": [
    "---\n",
    "\n",
    "> Accuracy is not a very good evaluation measure for classification due to the presence of skewness in class distributions which is very frequent in datasets. As can also be seen in our training dataset or overall dataset as well, the number of negatives is much high in quantity. In such cases, just predicting a single class without any training can give good accuracy number.\n",
    "\n",
    "> Instead, F1 score can be used as a metric which is defined as the harmonic mean of precision and recall.\n",
    "> where,\n",
    "> precision = True Positives / (True Positives + False Positives)\n",
    "> recall = True Positives / (True Positives + False Negatives)\n",
    "> Using F1 takes a balanced approach, defining a metric that considers the effects of false postives (wrong classifications) and negatives (positives in data which weren't identified).\n",
    "\n",
    "---"
   ]
  },
  {
   "cell_type": "markdown",
   "metadata": {
    "id": "2ozD4SyyRDL3"
   },
   "source": [
    "In the code cell below, write an implementation of the evaluation metric you defined above. You are free to use a library such as `nltk` or `sklearn` for this task, or you can write your own implementation from scratch."
   ]
  },
  {
   "cell_type": "code",
   "execution_count": null,
   "metadata": {
    "id": "UkUX5K0oMhKI"
   },
   "outputs": [],
   "source": [
    "def evaluate(labels, predictions):\n",
    "    # check that labels and predictions are of same length\n",
    "    assert len(labels) == len(predictions)\n",
    "\n",
    "    score = 0.0\n",
    "\n",
    "    #################### EDIT BELOW THIS LINE #########################\n",
    "\n",
    "    # your code goes here\n",
    "    # implementation of F1 score\n",
    "    tp, fp, fn = 0, 0, 0  # variables to store true_positive, false_positive, false_negative respectively\n",
    "    for label, prediction in zip(labels, predictions):\n",
    "        if label == prediction:\n",
    "            if label == 1:\n",
    "                tp += 1\n",
    "        else:\n",
    "            if label == 1:\n",
    "                fn += 1\n",
    "            else:\n",
    "                fp += 1\n",
    "    \n",
    "    precision = tp / (tp + fp)\n",
    "    recall = tp / (tp + fn)\n",
    "    score = round(2 * precision * recall / (precision + recall), 2)\n",
    "    \n",
    "    #printing the precision, recall and F1 metrics\n",
    "    print(f\"Precision: {round(precision, 2)}, Recall: {round(recall, 2)}, F1: {score}\")\n",
    "    #################### EDIT ABOVE THIS LINE #########################\n",
    "\n",
    "    return score\n",
    "\n",
    "# for the classifier trained in Task 3 using tf-idf features.\n",
    "evaluate(test_labels, predictions)"
   ]
  },
  {
   "cell_type": "markdown",
   "metadata": {},
   "source": [
    "To access the effect of stemming and stopwords, we will use the above defined metric in Task 4\n",
    "we can create four pairs of datasets based on removal_stopwords = {Yes, No} and stemming = {Yes, No} \n",
    "and print the results"
   ]
  },
  {
   "cell_type": "code",
   "execution_count": 9,
   "metadata": {},
   "outputs": [
    {
     "name": "stdout",
     "output_type": "stream",
     "text": [
      "Precision: 0.4, Recall: 0.76, F1: 0.52\n",
      "For stopword_removal = True, stemming = True: 0.52\n",
      "Precision: 0.42, Recall: 0.68, F1: 0.52\n",
      "For stopword_removal = True, stemming = False: 0.52\n",
      "Precision: 0.4, Recall: 0.77, F1: 0.53\n",
      "For stopword_removal = False, stemming = True: 0.53\n",
      "Precision: 0.42, Recall: 0.68, F1: 0.52\n",
      "For stopword_removal = False, stemming = False: 0.52\n"
     ]
    }
   ],
   "source": [
    "#--------------Running this cell might take 1-2 mins due to stemming and stopword removal ---------------##########\n",
    "\n",
    "# using itertools to generate 4 combinations of two boolean variables\n",
    "import itertools\n",
    "for combination in itertools.product([True, False], repeat = 2):\n",
    "    name_train_data = f\"pro_train_stop_{int(combination[0])}_stem_{int(combination[1])}\"\n",
    "    name_test_data = f\"pro_test_stop_{int(combination[0])}_stem_{int(combination[1])}\"\n",
    "    \n",
    "    # preprocessing train and test data with the generated combination\n",
    "    exec(f\"{name_train_data} = pre_process(train_texts, combination)\")\n",
    "    exec(f\"{name_test_data} = pre_process(test_texts, combination)\")\n",
    "    \n",
    "    # training the model and printing the metrics\n",
    "    train_model(eval(f\"{name_train_data}\"), eval(f\"{name_test_data}\"))\n",
    "    print(f\"For stopword_removal = {combination[0]}, stemming = {combination[1]}:\", evaluate(test_labels, predictions))"
   ]
  },
  {
   "cell_type": "code",
   "execution_count": 10,
   "metadata": {},
   "outputs": [
    {
     "data": {
      "text/plain": [
       "[<matplotlib.lines.Line2D at 0x2131e35d070>]"
      ]
     },
     "execution_count": 10,
     "metadata": {},
     "output_type": "execute_result"
    },
    {
     "data": {
      "image/png": "[encoded data removed]",
      "text/plain": [
       "<Figure size 560x440 with 1 Axes>"
      ]
     },
     "metadata": {
      "needs_background": "light"
     },
     "output_type": "display_data"
    }
   ],
   "source": [
    "# plotting the above results\n",
    "import matplotlib.pyplot as plt\n",
    "# putting the values in dataframe for the plot\n",
    "results_df = pd.DataFrame(columns = [\"Conf.\", \"Precision\", \"Recall\", \"F1\"],\n",
    "                         data = [[\"stop_1_stem_1\", 0.4, 0.76, 0.52], \n",
    "                                 [\"stop_1_stem_0\", 0.42, 0.68, 0.52], \n",
    "                                 [\"stop_0_stem_1\", 0.4, 0.77, 0.53], \n",
    "                                 [\"stop_0_stem_0\", 0.42, 0.68, 0.52]])\n",
    "\n",
    "plt.figure(figsize=(7, 5.5), dpi=80)\n",
    "axis = np.arange(4)\n",
    "plt.bar(x = axis - 0.2, height = results_df[\"Recall\"], width = 0.2)\n",
    "plt.bar(height = results_df[\"Precision\"], x = axis, width = 0.2, color = \"orange\")\n",
    "plt.xticks(axis, results_df[\"Conf.\"])\n",
    "plt.legend((\"Recall\", \"Precision\"))\n",
    "plt.plot(results_df[\"Precision\"], color = \"orange\")\n",
    "plt.plot(axis - 0.2, results_df[\"Recall\"])"
   ]
  },
  {
   "cell_type": "markdown",
   "metadata": {},
   "source": [
    "Although the overall precision is similar, it can be seen that stemming offers significant advantage in recall (stem = 1 bars have more recall than its counterpart). For the improvement in Task 5, we can include stemming. On the other hand, stopword removal doesn't seem to influence the performance of our classifier (stop = 1 or 0 has more or less same performance) and hence it can be ignored."
   ]
  },
  {
   "cell_type": "markdown",
   "metadata": {
    "id": "22OelF89a27J"
   },
   "source": [
    "---\n",
    "\n",
    "## Task 5: Feature Engineering (II)"
   ]
  },
  {
   "cell_type": "markdown",
   "metadata": {
    "id": "XQT0m3vG7bNc"
   },
   "source": [
    "---\n",
    ">In addition to the preprocessing steps defined above,\n",
    "> 1. It is shown in the above analysis how stopword removal doesn't help here, but we can consider the frequency distribution of words for removing the hapaxes, i.e. the words occuring only once as they might not offer insights about identification, these also include the words that are mistyped. \n",
    "\n",
    "> 2. We can also take syntactic information like POS tagging as a feature, since there can be several parts of speech that are more probable to be suggestions. To combine POS information along with the word, we will consider unigrams, bigrams and trigrams of POS as well.\n",
    "\n",
    "> 3. In the above model, we only took the unigrams into consideration. Here, we can also consider bigrams and trigrams as they can offer significant information. Many pairs of words might be potentially present in suggestions. For e.g. common phrases used by people like \"Please advise ...\".\n",
    "\n",
    "> 4. One of the potential feature could be the number of tokens present in the text. The intuition behind this being that the number of tokens (length of text) might influence suggestion identification. However, on plotting the distribution for the label = 0 and label = 1, we see that the distributions are similar and there is no reliable dependency on number on tokens.\n",
    "\n",
    "> 5. In the above task, we tried Gaussian Naive Bayes model, but since Multinomial is known to work very well in cases of discrete features (e.g. frequencies of words), it can also be tried as it works with TfIdf as well and can supercede the Gaussian Naive bayes performance. \n",
    "\n",
    ">After working on the above features, we get a significant improvement in F1 score as well as precisionand recall. The F1 at the end of task 3 was 0.51, while after adding the above defined features gives us significant improvement (F1 = 0.67). Furthermore, for the given dataset it turns out that ensemble of both these Naive Bayes types works better than any one. Combination of two variants of Naive Bayes models (Gaussian and Multinomial) gives us an F1 = 0.75. The implementation and analysis is shown below.\n",
    "\n",
    "---"
   ]
  },
  {
   "cell_type": "code",
   "execution_count": 42,
   "metadata": {},
   "outputs": [
    {
     "name": "stderr",
     "output_type": "stream",
     "text": [
      "<ipython-input-42-82ba01bc8806>:7: SettingWithCopyWarning: \n",
      "A value is trying to be set on a copy of a slice from a DataFrame.\n",
      "Try using .loc[row_indexer,col_indexer] = value instead\n",
      "\n",
      "See the caveats in the documentation: https://pandas.pydata.org/pandas-docs/stable/user_guide/indexing.html#returning-a-view-versus-a-copy\n",
      "  train_df[\"text\"] = pre_process(list(train_df[\"text\"]), combination = (False, False))\n"
     ]
    }
   ],
   "source": [
    "# we will be using the df obtained after reading the data and sampling \n",
    "data_df = df.drop(columns = [\"id\"])\n",
    "\n",
    "# dividing into train and test\n",
    "train_df, test_df = data_df[0:-1000], data_df[-1000:]\n",
    "# passing combination parameter for remove_stopword = False, and stem = false\n",
    "train_df[\"text\"] = pre_process(list(train_df[\"text\"]), combination = (False, False))"
   ]
  },
  {
   "cell_type": "code",
   "execution_count": 61,
   "metadata": {},
   "outputs": [
    {
     "name": "stderr",
     "output_type": "stream",
     "text": [
      "<ipython-input-61-6bb67b029dac>:7: SettingWithCopyWarning: \n",
      "A value is trying to be set on a copy of a slice from a DataFrame.\n",
      "Try using .loc[row_indexer,col_indexer] = value instead\n",
      "\n",
      "See the caveats in the documentation: https://pandas.pydata.org/pandas-docs/stable/user_guide/indexing.html#returning-a-view-versus-a-copy\n",
      "  train_df[\"num_tokens\"] = train_df[\"text\"].map(lambda x: len(x.split()))\n"
     ]
    },
    {
     "data": {
      "image/png": "[encoded data removed]",
      "text/plain": [
       "<Figure size 576x360 with 1 Axes>"
      ]
     },
     "metadata": {
      "needs_background": "light"
     },
     "output_type": "display_data"
    }
   ],
   "source": [
    "\"\"\"\n",
    "one of the potential feature could have been the number of tokens present in the text. However, on plotting the \n",
    "distribution for the label = 0 and label = 1, we see that the distributions are similar and don't depend on number on tokens.\n",
    "\"\"\"\n",
    "import matplotlib.pyplot as plt\n",
    "plt.figure(figsize = (8, 5))\n",
    "train_df[\"num_tokens\"] = train_df[\"text\"].map(lambda x: len(x.split()))\n",
    "train_df[train_df[\"label\"] == 0][\"num_tokens\"].plot.hist(by = \"num_tokens\", bins = 150, label = \"Label = 0\")\n",
    "x = plt.hist(x = train_df[train_df[\"label\"] == 1][\"num_tokens\"], bins = 150, color = \"orange\", label = \"Label = 1\")\n",
    "plt.legend()\n",
    "label = plt.xlabel(\"Number of tokens\")"
   ]
  },
  {
   "cell_type": "code",
   "execution_count": 44,
   "metadata": {
    "id": "u9mRku0va8kK"
   },
   "outputs": [
    {
     "name": "stderr",
     "output_type": "stream",
     "text": [
      "<ipython-input-44-d74893fb7d95>:25: SettingWithCopyWarning: \n",
      "A value is trying to be set on a copy of a slice from a DataFrame.\n",
      "Try using .loc[row_indexer,col_indexer] = value instead\n",
      "\n",
      "See the caveats in the documentation: https://pandas.pydata.org/pandas-docs/stable/user_guide/indexing.html#returning-a-view-versus-a-copy\n",
      "  dataset[\"text\"] = dataset[\"text\"].map(filter_words_to_keep)\n",
      "<ipython-input-44-d74893fb7d95>:28: SettingWithCopyWarning: \n",
      "A value is trying to be set on a copy of a slice from a DataFrame.\n",
      "Try using .loc[row_indexer,col_indexer] = value instead\n",
      "\n",
      "See the caveats in the documentation: https://pandas.pydata.org/pandas-docs/stable/user_guide/indexing.html#returning-a-view-versus-a-copy\n",
      "  dataset[\"postags\"] = dataset[\"text\"].map(lambda text: pos_tag(text.split()))\n",
      "<ipython-input-44-d74893fb7d95>:29: SettingWithCopyWarning: \n",
      "A value is trying to be set on a copy of a slice from a DataFrame.\n",
      "Try using .loc[row_indexer,col_indexer] = value instead\n",
      "\n",
      "See the caveats in the documentation: https://pandas.pydata.org/pandas-docs/stable/user_guide/indexing.html#returning-a-view-versus-a-copy\n",
      "  dataset[\"postags\"] = dataset[\"postags\"].map(lambda x: \" \".join([tag[1] for tag in x]))\n",
      "<ipython-input-44-d74893fb7d95>:32: SettingWithCopyWarning: \n",
      "A value is trying to be set on a copy of a slice from a DataFrame.\n",
      "Try using .loc[row_indexer,col_indexer] = value instead\n",
      "\n",
      "See the caveats in the documentation: https://pandas.pydata.org/pandas-docs/stable/user_guide/indexing.html#returning-a-view-versus-a-copy\n",
      "  dataset[\"word_postag\"] = dataset.apply(lambda x: x[\"text\"] + \" \" + x[\"postags\"], axis = 1)\n"
     ]
    }
   ],
   "source": [
    "# Create your features.\n",
    "# ... your code goes here\n",
    "\n",
    "from nltk import FreqDist\n",
    "from nltk import pos_tag\n",
    "from sklearn.naive_bayes import MultinomialNB\n",
    "from sklearn.naive_bayes import GaussianNB\n",
    "from sklearn.model_selection import GridSearchCV\n",
    "\n",
    "# using frequency distribution to remove hapaxes\n",
    "freq_dist = FreqDist(word for record in list(train_df[\"text\"]) for word in record.split())\n",
    "# defining the words to keep after removing the hapaxes\n",
    "words_to_keep = set(list(freq_dist.most_common(len(freq_dist)-len(freq_dist.hapaxes()))))\n",
    "words_to_keep = [word[0] for word in words_to_keep]\n",
    "\n",
    "# filter the words using the variable words_to_keep\n",
    "def filter_words_to_keep(text):\n",
    "    filtered_sent = []\n",
    "    for word in text.split():\n",
    "        if word in words_to_keep: filtered_sent.append(word)\n",
    "    return \" \".join(filtered_sent)\n",
    "\n",
    "def additional_processing_steps(dataset):\n",
    "    # filtering the words from the dataset\n",
    "    dataset[\"text\"] = dataset[\"text\"].map(filter_words_to_keep)\n",
    "\n",
    "    # considering part-of-speech tags\n",
    "    dataset[\"postags\"] = dataset[\"text\"].map(lambda text: pos_tag(text.split()))\n",
    "    dataset[\"postags\"] = dataset[\"postags\"].map(lambda x: \" \".join([tag[1] for tag in x]))\n",
    "\n",
    "    # adding postags as new words\n",
    "    dataset[\"word_postag\"] = dataset.apply(lambda x: x[\"text\"] + \" \" + x[\"postags\"], axis = 1)\n",
    "    \n",
    "    return dataset\n",
    "    \n",
    "train_df = additional_processing_steps(train_df)\n",
    "# considering the unigrams, bigrams and trigrams in countvectorizer\n",
    "count_vec = CountVectorizer(ngram_range = (1, 2))\n",
    "tf_idf = TfidfTransformer()\n",
    "\n",
    "train_counts = count_vec.fit_transform(list(train_df[\"word_postag\"]))\n",
    "train_tfidf = tf_idf.fit_transform(train_counts)"
   ]
  },
  {
   "cell_type": "code",
   "execution_count": 46,
   "metadata": {
    "id": "u9mRku0va8kK"
   },
   "outputs": [
    {
     "name": "stdout",
     "output_type": "stream",
     "text": [
      "Fitting 5 folds for each of 4 candidates, totalling 20 fits\n"
     ]
    },
    {
     "name": "stderr",
     "output_type": "stream",
     "text": [
      "[Parallel(n_jobs=4)]: Using backend LokyBackend with 4 concurrent workers.\n",
      "[Parallel(n_jobs=4)]: Done  20 out of  20 | elapsed:  1.4min finished\n"
     ]
    },
    {
     "name": "stdout",
     "output_type": "stream",
     "text": [
      "Fitting 5 folds for each of 4 candidates, totalling 20 fits\n"
     ]
    },
    {
     "name": "stderr",
     "output_type": "stream",
     "text": [
      "[Parallel(n_jobs=4)]: Using backend LokyBackend with 4 concurrent workers.\n",
      "[Parallel(n_jobs=4)]: Done  20 out of  20 | elapsed:   21.1s finished\n"
     ]
    },
    {
     "data": {
      "text/plain": [
       "GridSearchCV(estimator=MultinomialNB(), n_jobs=4,\n",
       "             param_grid={'alpha': array([ 1.        ,  2.15443469,  4.64158883, 10.        ])},\n",
       "             scoring='f1', verbose=1)"
      ]
     },
     "execution_count": 46,
     "metadata": {},
     "output_type": "execute_result"
    }
   ],
   "source": [
    "\n",
    "##--Running this cell might take around 3 minutes and upto 12GB RAM to run due to grid search, while occupying 4 cores of CPU ###\n",
    "\n",
    "# Train a Naïve Bayes classifier using the features you defined.\n",
    "# ... your code goes here\n",
    "# creating the instances of multinomial and gaussian\n",
    "nb_model_Mul = MultinomialNB()\n",
    "nb_model_Gau = GaussianNB()\n",
    "\n",
    "# using grid search with 5 fold cross validation to tune the hyperparameters provided by the models \n",
    "# (smoothing for Gaussian NB and alpha for Multinomial)\n",
    "\n",
    "params_NB = {'var_smoothing': np.logspace(0,-9, num = 4)}\n",
    "params_Mul = {'alpha': np.logspace(0,1,num = 4)}\n",
    "\n",
    "########### Following piece of code takes around 3 minutes and around 10 GB RAM to run the GridSearch\n",
    "# defining Gaussian grid search instance\n",
    "grid_search_Gau = GridSearchCV(estimator = nb_model_Gau, \n",
    "                 param_grid = params_NB,\n",
    "                 verbose = 1, \n",
    "                 scoring = \"f1\", n_jobs = 4) \n",
    "# defining Multinomial grid search instance\n",
    "grid_search_Mul = GridSearchCV(estimator = nb_model_Mul, \n",
    "                 param_grid = params_Mul,\n",
    "                 verbose = 1, \n",
    "                 scoring = \"f1\", n_jobs = 4)\n",
    "\n",
    "# fitting the models after finding the correct parameters\n",
    "grid_search_Gau.fit(train_tfidf.toarray(), np.array(list(train_df[\"label\"])))\n",
    "grid_search_Mul.fit(train_tfidf.toarray(), np.array(list(train_df[\"label\"])))"
   ]
  },
  {
   "cell_type": "code",
   "execution_count": 47,
   "metadata": {
    "id": "u9mRku0va8kK"
   },
   "outputs": [
    {
     "name": "stderr",
     "output_type": "stream",
     "text": [
      "<ipython-input-47-b7266c355b63>:5: SettingWithCopyWarning: \n",
      "A value is trying to be set on a copy of a slice from a DataFrame.\n",
      "Try using .loc[row_indexer,col_indexer] = value instead\n",
      "\n",
      "See the caveats in the documentation: https://pandas.pydata.org/pandas-docs/stable/user_guide/indexing.html#returning-a-view-versus-a-copy\n",
      "  test_df[\"text\"] = pre_process(list(test_df[\"text\"]), combination = (False, False))\n",
      "<ipython-input-44-d74893fb7d95>:25: SettingWithCopyWarning: \n",
      "A value is trying to be set on a copy of a slice from a DataFrame.\n",
      "Try using .loc[row_indexer,col_indexer] = value instead\n",
      "\n",
      "See the caveats in the documentation: https://pandas.pydata.org/pandas-docs/stable/user_guide/indexing.html#returning-a-view-versus-a-copy\n",
      "  dataset[\"text\"] = dataset[\"text\"].map(filter_words_to_keep)\n",
      "<ipython-input-44-d74893fb7d95>:28: SettingWithCopyWarning: \n",
      "A value is trying to be set on a copy of a slice from a DataFrame.\n",
      "Try using .loc[row_indexer,col_indexer] = value instead\n",
      "\n",
      "See the caveats in the documentation: https://pandas.pydata.org/pandas-docs/stable/user_guide/indexing.html#returning-a-view-versus-a-copy\n",
      "  dataset[\"postags\"] = dataset[\"text\"].map(lambda text: pos_tag(text.split()))\n",
      "<ipython-input-44-d74893fb7d95>:29: SettingWithCopyWarning: \n",
      "A value is trying to be set on a copy of a slice from a DataFrame.\n",
      "Try using .loc[row_indexer,col_indexer] = value instead\n",
      "\n",
      "See the caveats in the documentation: https://pandas.pydata.org/pandas-docs/stable/user_guide/indexing.html#returning-a-view-versus-a-copy\n",
      "  dataset[\"postags\"] = dataset[\"postags\"].map(lambda x: \" \".join([tag[1] for tag in x]))\n",
      "<ipython-input-44-d74893fb7d95>:32: SettingWithCopyWarning: \n",
      "A value is trying to be set on a copy of a slice from a DataFrame.\n",
      "Try using .loc[row_indexer,col_indexer] = value instead\n",
      "\n",
      "See the caveats in the documentation: https://pandas.pydata.org/pandas-docs/stable/user_guide/indexing.html#returning-a-view-versus-a-copy\n",
      "  dataset[\"word_postag\"] = dataset.apply(lambda x: x[\"text\"] + \" \" + x[\"postags\"], axis = 1)\n"
     ]
    },
    {
     "name": "stdout",
     "output_type": "stream",
     "text": [
      "For Gaussian Naive bayes: \n",
      "Precision: 0.52, Recall: 0.95, F1: 0.67\n",
      "For Multinomial Naive bayes: \n",
      "Precision: 0.93, Recall: 0.15, F1: 0.26\n"
     ]
    }
   ],
   "source": [
    "# Evaluate on the test set.\n",
    "# ... your code goes here\n",
    "\n",
    "# replicating all preprocessing steps on test set\n",
    "test_df[\"text\"] = pre_process(list(test_df[\"text\"]), combination = (False, False))\n",
    "test_df = additional_processing_steps(test_df)\n",
    "test_counts = count_vec.transform(list(test_df[\"word_postag\"]))\n",
    "test_tfidf = tf_idf.transform(test_counts)\n",
    "\n",
    "# getting predictions for the supplied model\n",
    "def get_predictions(fitted_model):\n",
    "    predictions = []\n",
    "    for result in fitted_model.predict(test_tfidf.toarray()):\n",
    "        predictions.append(result)\n",
    "    return predictions\n",
    "\n",
    "# evaluating the Gaussian Naive Bayes\n",
    "print(\"For Gaussian Naive bayes: \")\n",
    "predictions = get_predictions(grid_search_Gau)\n",
    "score = evaluate(list(test_df[\"label\"]), predictions)\n",
    "# evaluating the Multinomial Naive Bayes\n",
    "print(\"For Multinomial Naive bayes: \")\n",
    "predictions = get_predictions(grid_search_Mul)\n",
    "score = evaluate(list(test_df[\"label\"]), predictions)"
   ]
  },
  {
   "cell_type": "markdown",
   "metadata": {},
   "source": [
    "It can be seen how different models show different properties, <br> - Gaussian NB gives high recall and descent precision.<br> - Multinomial NB gives extremely high precision with very low recall. <br>We can take the probabilities and combine them (using weighted average) to trade off and get an overall better F1."
   ]
  },
  {
   "cell_type": "code",
   "execution_count": 51,
   "metadata": {
    "id": "u9mRku0va8kK"
   },
   "outputs": [
    {
     "name": "stdout",
     "output_type": "stream",
     "text": [
      "Precision: 0.77, Recall: 0.68, F1: 0.72\n",
      "Precision: 0.71, Recall: 0.78, F1: 0.75\n",
      "Precision: 0.66, Recall: 0.84, F1: 0.73\n",
      "Precision: 0.61, Recall: 0.88, F1: 0.72\n",
      "Precision: 0.57, Recall: 0.92, F1: 0.7\n",
      "Precision: 0.55, Recall: 0.93, F1: 0.69\n",
      "Precision: 0.52, Recall: 0.95, F1: 0.67\n"
     ]
    },
    {
     "data": {
      "text/plain": [
       "Text(0, 0.5, 'F1 score')"
      ]
     },
     "execution_count": 51,
     "metadata": {},
     "output_type": "execute_result"
    },
    {
     "data": {
      "image/png": "[encoded data removed]",
      "text/plain": [
       "<Figure size 576x432 with 1 Axes>"
      ]
     },
     "metadata": {
      "needs_background": "light"
     },
     "output_type": "display_data"
    }
   ],
   "source": [
    "# resolving the predictions from class probabilites\n",
    "def get_predictions_from_prob(pred_prob):\n",
    "    predictions = []\n",
    "    for i in pred_prob:\n",
    "        if i[0] > i[1]:\n",
    "            predictions.append(0)\n",
    "        else: predictions.append(1)\n",
    "    return predictions\n",
    "\n",
    "# storing the weighting factor and corresponding F1 metric\n",
    "f1_scores_vals = []\n",
    "\n",
    "# trying out different weighting factors, \n",
    "# starting from 0.4 for the Gaussian Model, as it shows overall better results (F1: 0.67 with extremely high recall)\n",
    "# as compared to Multinomial (F1: 0.26 with extremely high precision) \n",
    "for val in np.linspace(0.4, 1, 7):\n",
    "    # defining probability as a weighted average\n",
    "    pred_prob = val * grid_search_Gau.predict_log_proba(test_tfidf.toarray()) + (1-val) * grid_search_Mul.predict_log_proba(test_tfidf.toarray())\n",
    "    # resolving the probabilities to predictions\n",
    "    predictions = get_predictions_from_prob(pred_prob)\n",
    "    # evaluating the predictions on defined F1 metric\n",
    "    res = evaluate(list(test_df[\"label\"]), predictions)\n",
    "    f1_scores_vals.append((val, res))\n",
    "    \n",
    "# taking the max_f1 value and corresponding weighting factor\n",
    "max_f1 = max(f1_scores_vals, key = lambda x: x[1])\n",
    "\n",
    "# plotting the variations in F1\n",
    "plt.figure(figsize = (8, 6))\n",
    "weighting_values = [pair[0] for pair in f1_scores_vals]\n",
    "f1_scores = [pair[1] for pair in f1_scores_vals]\n",
    "plt.plot(weighting_values, f1_scores, marker = \"o\")\n",
    "plt.axvline(x = max_f1[0], color = \"r\", linestyle = \"dashed\")\n",
    "plt.xlabel(\"Weighting Factor\"); plt.ylabel(\"F1 score\")"
   ]
  },
  {
   "cell_type": "markdown",
   "metadata": {},
   "source": [
    "For the given dataset, we get the maximum F1 of 0.75 at weight value = 0.5 for both (i.e. average of both the probabilities) of Gaussian and Multinomial Naive bayes probabilities. Hence, the average of probabilities/log probabilities from both trained models can be used for predictions."
   ]
  }
 ],
 "metadata": {
  "colab": {
   "collapsed_sections": [],
   "name": "Assignment 2.ipynb",
   "provenance": []
  },
  "kernelspec": {
   "display_name": "Python 3",
   "language": "python",
   "name": "python3"
  },
  "language_info": {
   "codemirror_mode": {
    "name": "ipython",
    "version": 3
   },
   "file_extension": ".py",
   "mimetype": "text/x-python",
   "name": "python",
   "nbconvert_exporter": "python",
   "pygments_lexer": "ipython3",
   "version": "3.8.3"
  }
 },
 "nbformat": 4,
 "nbformat_minor": 4
}
